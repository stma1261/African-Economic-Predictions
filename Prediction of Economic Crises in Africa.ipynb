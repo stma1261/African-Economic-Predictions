{
 "cells": [
  {
   "cell_type": "code",
   "execution_count": 1,
   "metadata": {},
   "outputs": [],
   "source": [
    "import pandas as pd\n",
    "import numpy as np\n",
    "import matplotlib.pyplot as plt\n",
    "import seaborn as sns\n",
    "plt.style.use('fivethirtyeight')\n",
    "%matplotlib inline"
   ]
  },
  {
   "cell_type": "markdown",
   "metadata": {},
   "source": [
    "#  Predicting Financial Crises African Markets"
   ]
  },
  {
   "cell_type": "markdown",
   "metadata": {},
   "source": [
    "In this project, we will look to use financial data of 13 African countries: Algeria, Angola, Central African Republic, Ivory Coast, Egypt, Kenya, Mauritius, Morocco, Nigeria, South Africa, Tunisia, Zambia and Zimbabwe. We will use each of these as indicator economies to analyze the interconectedness of each economy and if the financial hardships of one country can be used to predict the crises of another or if the economies are more isolated than one would think.  "
   ]
  },
  {
   "cell_type": "code",
   "execution_count": 2,
   "metadata": {},
   "outputs": [],
   "source": [
    "db=pd.read_csv(\"african_crises.csv\")"
   ]
  },
  {
   "cell_type": "code",
   "execution_count": 3,
   "metadata": {},
   "outputs": [
    {
     "data": {
      "text/plain": [
       "1059"
      ]
     },
     "execution_count": 3,
     "metadata": {},
     "output_type": "execute_result"
    }
   ],
   "source": [
    "db.shape[0]"
   ]
  },
  {
   "cell_type": "markdown",
   "metadata": {},
   "source": [
    "### Initial Impressions"
   ]
  },
  {
   "cell_type": "markdown",
   "metadata": {},
   "source": [
    "First, we must view the data as a whole in order to look for trends and correlations. This will involve our first steps of data cleaning as well as a look into potential features to add to the data. The first order of business will be to convert the banking crisis column to the familiar numeric form of 1=crisis, 2=no_crisis."
   ]
  },
  {
   "cell_type": "code",
   "execution_count": 4,
   "metadata": {},
   "outputs": [],
   "source": [
    "def binary(sting):\n",
    "    new=str(sting)\n",
    "    if new=='no_crisis':\n",
    "        new=0\n",
    "    if new=='crisis':\n",
    "        new=1\n",
    "    return new\n",
    "\n",
    "db['banking_crisis']=db['banking_crisis'].apply(binary)"
   ]
  },
  {
   "cell_type": "code",
   "execution_count": 5,
   "metadata": {},
   "outputs": [
    {
     "data": {
      "text/plain": [
       "0    965\n",
       "1     94\n",
       "Name: banking_crisis, dtype: int64"
      ]
     },
     "execution_count": 5,
     "metadata": {},
     "output_type": "execute_result"
    }
   ],
   "source": [
    "db['banking_crisis'].value_counts()"
   ]
  },
  {
   "cell_type": "code",
   "execution_count": 6,
   "metadata": {},
   "outputs": [
    {
     "data": {
      "text/plain": [
       "<matplotlib.axes._subplots.AxesSubplot at 0x284926da4e0>"
      ]
     },
     "execution_count": 6,
     "metadata": {},
     "output_type": "execute_result"
    },
    {
     "data": {
      "image/png": "[encoded data removed]",
      "text/plain": [
       "<Figure size 432x288 with 2 Axes>"
      ]
     },
     "metadata": {
      "needs_background": "light"
     },
     "output_type": "display_data"
    }
   ],
   "source": [
    "corrs=db.corr().drop(['case','year', 'exch_usd','domestic_debt_in_default', 'sovereign_external_debt_default','gdp_weighted_default', 'inflation_annual_cpi', 'independence'])\n",
    "sns.heatmap(corrs)"
   ]
  },
  {
   "cell_type": "markdown",
   "metadata": {},
   "source": [
    "As seen in the heat plot, some of the highest positive correlations occur between the crisis which suggest a strong interrelatedness to them. The largest correlations outside of other cirisis are the exchange rate to US dollars, and whether or not the country was independent. "
   ]
  },
  {
   "cell_type": "code",
   "execution_count": 7,
   "metadata": {},
   "outputs": [
    {
     "data": {
      "text/plain": [
       "0    0.922568\n",
       "1    0.077432\n",
       "Name: systemic_crisis, dtype: float64"
      ]
     },
     "execution_count": 7,
     "metadata": {},
     "output_type": "execute_result"
    }
   ],
   "source": [
    "db['systemic_crisis'].value_counts(normalize=True)"
   ]
  },
  {
   "cell_type": "code",
   "execution_count": 8,
   "metadata": {},
   "outputs": [
    {
     "data": {
      "text/plain": [
       "0    0.871577\n",
       "1    0.124646\n",
       "2    0.003777\n",
       "Name: currency_crises, dtype: float64"
      ]
     },
     "execution_count": 8,
     "metadata": {},
     "output_type": "execute_result"
    }
   ],
   "source": [
    "db['currency_crises'].value_counts(normalize=True)"
   ]
  },
  {
   "cell_type": "code",
   "execution_count": 9,
   "metadata": {},
   "outputs": [
    {
     "data": {
      "text/html": [
       "<div>\n",
       "<style scoped>\n",
       "    .dataframe tbody tr th:only-of-type {\n",
       "        vertical-align: middle;\n",
       "    }\n",
       "\n",
       "    .dataframe tbody tr th {\n",
       "        vertical-align: top;\n",
       "    }\n",
       "\n",
       "    .dataframe thead th {\n",
       "        text-align: right;\n",
       "    }\n",
       "</style>\n",
       "<table border=\"1\" class=\"dataframe\">\n",
       "  <thead>\n",
       "    <tr style=\"text-align: right;\">\n",
       "      <th></th>\n",
       "      <th>case</th>\n",
       "      <th>cc3</th>\n",
       "      <th>country</th>\n",
       "      <th>year</th>\n",
       "      <th>systemic_crisis</th>\n",
       "      <th>exch_usd</th>\n",
       "      <th>domestic_debt_in_default</th>\n",
       "      <th>sovereign_external_debt_default</th>\n",
       "      <th>gdp_weighted_default</th>\n",
       "      <th>inflation_annual_cpi</th>\n",
       "      <th>independence</th>\n",
       "      <th>currency_crises</th>\n",
       "      <th>inflation_crises</th>\n",
       "      <th>banking_crisis</th>\n",
       "    </tr>\n",
       "  </thead>\n",
       "  <tbody>\n",
       "    <tr>\n",
       "      <th>142</th>\n",
       "      <td>2</td>\n",
       "      <td>AGO</td>\n",
       "      <td>Angola</td>\n",
       "      <td>1995</td>\n",
       "      <td>0</td>\n",
       "      <td>0.005692</td>\n",
       "      <td>1</td>\n",
       "      <td>1</td>\n",
       "      <td>0.00</td>\n",
       "      <td>2672.230000</td>\n",
       "      <td>1</td>\n",
       "      <td>2</td>\n",
       "      <td>1</td>\n",
       "      <td>1</td>\n",
       "    </tr>\n",
       "    <tr>\n",
       "      <th>146</th>\n",
       "      <td>2</td>\n",
       "      <td>AGO</td>\n",
       "      <td>Angola</td>\n",
       "      <td>1999</td>\n",
       "      <td>0</td>\n",
       "      <td>5.579920</td>\n",
       "      <td>1</td>\n",
       "      <td>1</td>\n",
       "      <td>0.00</td>\n",
       "      <td>248.248000</td>\n",
       "      <td>1</td>\n",
       "      <td>2</td>\n",
       "      <td>1</td>\n",
       "      <td>0</td>\n",
       "    </tr>\n",
       "    <tr>\n",
       "      <th>775</th>\n",
       "      <td>56</td>\n",
       "      <td>ZAF</td>\n",
       "      <td>South Africa</td>\n",
       "      <td>1967</td>\n",
       "      <td>0</td>\n",
       "      <td>0.709300</td>\n",
       "      <td>0</td>\n",
       "      <td>0</td>\n",
       "      <td>0.00</td>\n",
       "      <td>2.151508</td>\n",
       "      <td>1</td>\n",
       "      <td>2</td>\n",
       "      <td>0</td>\n",
       "      <td>0</td>\n",
       "    </tr>\n",
       "    <tr>\n",
       "      <th>840</th>\n",
       "      <td>63</td>\n",
       "      <td>TUN</td>\n",
       "      <td>Tunisia</td>\n",
       "      <td>1958</td>\n",
       "      <td>0</td>\n",
       "      <td>0.419700</td>\n",
       "      <td>0</td>\n",
       "      <td>1</td>\n",
       "      <td>0.06</td>\n",
       "      <td>5.216941</td>\n",
       "      <td>1</td>\n",
       "      <td>2</td>\n",
       "      <td>0</td>\n",
       "      <td>0</td>\n",
       "    </tr>\n",
       "  </tbody>\n",
       "</table>\n",
       "</div>"
      ],
      "text/plain": [
       "     case  cc3       country  year  systemic_crisis  exch_usd  \\\n",
       "142     2  AGO        Angola  1995                0  0.005692   \n",
       "146     2  AGO        Angola  1999                0  5.579920   \n",
       "775    56  ZAF  South Africa  1967                0  0.709300   \n",
       "840    63  TUN       Tunisia  1958                0  0.419700   \n",
       "\n",
       "     domestic_debt_in_default  sovereign_external_debt_default  \\\n",
       "142                         1                                1   \n",
       "146                         1                                1   \n",
       "775                         0                                0   \n",
       "840                         0                                1   \n",
       "\n",
       "     gdp_weighted_default  inflation_annual_cpi  independence  \\\n",
       "142                  0.00           2672.230000             1   \n",
       "146                  0.00            248.248000             1   \n",
       "775                  0.00              2.151508             1   \n",
       "840                  0.06              5.216941             1   \n",
       "\n",
       "     currency_crises  inflation_crises  banking_crisis  \n",
       "142                2                 1               1  \n",
       "146                2                 1               0  \n",
       "775                2                 0               0  \n",
       "840                2                 0               0  "
      ]
     },
     "execution_count": 9,
     "metadata": {},
     "output_type": "execute_result"
    }
   ],
   "source": [
    "db[db['currency_crises']==2]"
   ]
  },
  {
   "cell_type": "code",
   "execution_count": 10,
   "metadata": {},
   "outputs": [],
   "source": [
    "db.loc[142, 'currency_crises']=1\n",
    "db.loc[146, 'currency_crises']=1\n",
    "db.loc[775, 'currency_crises']=0\n",
    "db.loc[840, 'currency_crises']=1"
   ]
  },
  {
   "cell_type": "code",
   "execution_count": 11,
   "metadata": {},
   "outputs": [
    {
     "data": {
      "text/plain": [
       "1"
      ]
     },
     "execution_count": 11,
     "metadata": {},
     "output_type": "execute_result"
    }
   ],
   "source": [
    "db.loc[142, 'currency_crises']"
   ]
  },
  {
   "cell_type": "code",
   "execution_count": null,
   "metadata": {},
   "outputs": [],
   "source": []
  },
  {
   "cell_type": "markdown",
   "metadata": {},
   "source": [
    "Since these are suposed to be binary, we need to take a closer look at where the value 2 occurs and complete some outside research to see what values it should be. For the values that pertain to Angola, it had a currency crisis in the surrounding years so it can be surmised that it underwent the same crisis during 1995 and 1999. For the South Africa value, there are no currency crises surrounding it, and there were no banking, inflation or systemic crisis in the same amount of time. In the case of Tunisia, the Dinar was introduced that year after the removal of the Franc. With this, a forgein currency crisis is possible, along with a debt default suggest there was a crisis. "
   ]
  },
  {
   "cell_type": "markdown",
   "metadata": {},
   "source": [
    "### Visualization"
   ]
  },
  {
   "cell_type": "markdown",
   "metadata": {},
   "source": [
    "Now that we have gotten the data into a standardized form, we need to visualize the data in order to look for more clear correlations between our potential factors in order to get an idea for potential features. "
   ]
  },
  {
   "cell_type": "code",
   "execution_count": 12,
   "metadata": {},
   "outputs": [],
   "source": [
    "countries=db['country'].value_counts().index"
   ]
  },
  {
   "cell_type": "code",
   "execution_count": null,
   "metadata": {},
   "outputs": [],
   "source": []
  },
  {
   "cell_type": "code",
   "execution_count": 13,
   "metadata": {},
   "outputs": [],
   "source": [
    "d={}\n",
    "for one in countries:\n",
    "    d[one]=db[db['country']==one]"
   ]
  },
  {
   "cell_type": "code",
   "execution_count": 14,
   "metadata": {},
   "outputs": [
    {
     "data": {
      "text/plain": [
       "['systemic_crisis', 'currency_crises', 'inflation_crises', 'banking_crisis']"
      ]
     },
     "execution_count": 14,
     "metadata": {},
     "output_type": "execute_result"
    }
   ],
   "source": [
    "crisis=[]\n",
    "for col in list(db.columns):\n",
    "    if 'crisis' in col:\n",
    "        crisis.append(col)\n",
    "    if 'crises' in col:\n",
    "        crisis.append(col)\n",
    "crisis"
   ]
  },
  {
   "cell_type": "code",
   "execution_count": 15,
   "metadata": {},
   "outputs": [],
   "source": [
    "red='firebrick'\n",
    "green='forestgreen'\n",
    "purple='blueviolet'"
   ]
  },
  {
   "cell_type": "code",
   "execution_count": null,
   "metadata": {},
   "outputs": [],
   "source": []
  },
  {
   "cell_type": "code",
   "execution_count": null,
   "metadata": {},
   "outputs": [],
   "source": []
  },
  {
   "cell_type": "code",
   "execution_count": 16,
   "metadata": {},
   "outputs": [],
   "source": [
    "total_crisis=pd.pivot_table(db, values=crisis, index='year', aggfunc=np.sum)"
   ]
  },
  {
   "cell_type": "code",
   "execution_count": 17,
   "metadata": {},
   "outputs": [
    {
     "data": {
      "text/plain": [
       "<matplotlib.axes._subplots.AxesSubplot at 0x28492aa56a0>"
      ]
     },
     "execution_count": 17,
     "metadata": {},
     "output_type": "execute_result"
    },
    {
     "data": {
      "image/png": "[encoded data removed]",
      "text/plain": [
       "<Figure size 576x576 with 1 Axes>"
      ]
     },
     "metadata": {
      "needs_background": "light"
     },
     "output_type": "display_data"
    }
   ],
   "source": [
    "total_crisis.plot(figsize=(8,8))"
   ]
  },
  {
   "cell_type": "markdown",
   "metadata": {},
   "source": [
    "We can see from the graph that the 1980's and 1990's were times of great turmoil in Africa. The prior dates suggest that a strong link between inflation crises and currency crises, however using one to predict the other doesn't work in future contexts. This information is useful in that the factors that lead to one, can likely lead to another.\n"
   ]
  },
  {
   "cell_type": "code",
   "execution_count": 18,
   "metadata": {},
   "outputs": [
    {
     "data": {
      "text/plain": [
       "Text(0.5, 1.0, 'Number of Economic Crises per Country')"
      ]
     },
     "execution_count": 18,
     "metadata": {},
     "output_type": "execute_result"
    },
    {
     "data": {
      "image/png": "[encoded data removed]",
      "text/plain": [
       "<Figure size 576x576 with 1 Axes>"
      ]
     },
     "metadata": {
      "needs_background": "light"
     },
     "output_type": "display_data"
    }
   ],
   "source": [
    "countries=pd.pivot_table(db, index='country', values=crisis, aggfunc=np.sum)\n",
    "countries.plot(kind='barh', figsize=(8,8))\n",
    "plt.title('Number of Economic Crises per Country')"
   ]
  },
  {
   "cell_type": "markdown",
   "metadata": {},
   "source": [
    "From the data, we can that there is a link between the number of banking crises and the number of systemic crises. On the other side of the same coin, we see that currency and inflation prices go hand in hand as we predicted in the prior graph.  "
   ]
  },
  {
   "cell_type": "code",
   "execution_count": 19,
   "metadata": {},
   "outputs": [
    {
     "data": {
      "image/png": "[encoded data removed]",
      "text/plain": [
       "<Figure size 576x576 with 4 Axes>"
      ]
     },
     "metadata": {
      "needs_background": "light"
     },
     "output_type": "display_data"
    }
   ],
   "source": [
    "def crisis_history(country):\n",
    "\n",
    "    '''\n",
    "    This is a function which takes in the country of interest and it returns economic binary representations of crisis timings. \n",
    "    '''\n",
    "    \n",
    "    \n",
    "    time=d[country]['year']\n",
    "    sys=d[country]['systemic_crisis']\n",
    "    curr=d[country]['currency_crises']\n",
    "    inf=d[country]['inflation_crises']\n",
    "    bank=d[country]['banking_crisis']\n",
    "\n",
    "    fig=plt.figure(figsize=(8,8))\n",
    "    ax1=fig.add_subplot(2,2,1)\n",
    "    ax2=fig.add_subplot(2,2,2)\n",
    "    ax3=fig.add_subplot(2,2,3)\n",
    "    ax4=fig.add_subplot(2,2,4)\n",
    "   \n",
    "    #ax1.tick_params(axis='y', left=False, top=False, right=False, bottom=False, labelleft=False, labeltop=False, labelright=False, labelbottom=False)\n",
    "    #ax2.tick_params(axis='y', left=False, top=False, right=False, bottom=False, labelleft=False, labeltop=False, labelright=False, labelbottom=False)\n",
    "    #ax3.tick_params(axis='y', left=False, top=False, right=False, bottom=False, labelleft=False, labeltop=False, labelright=False, labelbottom=False)\n",
    "    #ax4.tick_params(axis='y', left=False, top=False, right=False, bottom=False, labelleft=False, labeltop=False, labelright=False, labelbottom=False)\n",
    "        \n",
    "    ax1.scatter(time, sys)\n",
    "    ax2.scatter(time, curr, color=red)\n",
    "    ax3.scatter(time, inf, color=purple)\n",
    "    ax4.scatter(time, bank, color=green)\n",
    "\n",
    "    ax1.set(xlabel='Year', ylabel='Systemic Crisis')\n",
    "    ax2.set(xlabel='Year', ylabel='Currancy Crisis')\n",
    "    ax3.set(xlabel='Year', ylabel='Inflation Crisis')\n",
    "    ax4.set(xlabel='Year', ylabel='Banking Crisis')\n",
    "\n",
    "    fig.text(.5, 0.04, \"Binary Visualization of {0}'s Crises\".format(country), ha='center', va='center', fontsize='xx-large')\n",
    "    \n",
    "crisis_history('Algeria')"
   ]
  },
  {
   "cell_type": "code",
   "execution_count": 20,
   "metadata": {},
   "outputs": [
    {
     "data": {
      "image/png": "[encoded data removed]",
      "text/plain": [
       "<Figure size 1296x864 with 6 Axes>"
      ]
     },
     "metadata": {
      "needs_background": "light"
     },
     "output_type": "display_data"
    }
   ],
   "source": [
    "def metrics(country):\n",
    "\n",
    "    '''\n",
    "    This is a function which takes in the country of interest and it returns the economic metrics within the table.. \n",
    "    'exch_usd','domestic_debt_in_default', 'sovereign_external_debt_default','gdp_weighted_default', 'inflation_annual_cpi'\n",
    "    '''\n",
    "    \n",
    "    \n",
    "    time=d[country]['year']\n",
    "    exch=d[country]['exch_usd']\n",
    "    ddid=d[country]['domestic_debt_in_default']\n",
    "    sedd=d[country]['sovereign_external_debt_default']\n",
    "    gdp=d[country]['gdp_weighted_default']\n",
    "    inf=d[country]['inflation_annual_cpi']\n",
    "    ind=d[country]['independence']\n",
    "\n",
    "    fig=plt.figure(figsize=(18,12))\n",
    "    ax1=fig.add_subplot(2,3,1)\n",
    "    ax2=fig.add_subplot(2,3,2)\n",
    "    ax3=fig.add_subplot(2,3,3)\n",
    "    ax4=fig.add_subplot(2,3,4)\n",
    "    ax5=fig.add_subplot(2,3,5)\n",
    "    ax6=fig.add_subplot(2,3,6)\n",
    "        \n",
    "    ax1.plot(time, exch)\n",
    "    ax2.scatter(time, ddid, color=red)\n",
    "    ax3.scatter(time, sedd, color=purple)\n",
    "    ax4.scatter(time, gdp, color=green)\n",
    "    ax5.plot(time, inf, color='black')\n",
    "    ax6.scatter(time, ind)\n",
    "\n",
    "    ax1.set(xlabel='Year', ylabel=(\"US Dollar Exchange Rate\"))\n",
    "    ax2.set(xlabel='Year', ylabel='Domestic Debt in Default')\n",
    "    ax3.set(xlabel='Year', ylabel='External Debt in Default')\n",
    "    ax4.set(xlabel='Year', ylabel='Weighted GDP in Default')\n",
    "    ax5.set(xlabel='Year', ylabel='Annual Inflation')\n",
    "    ax6.set(xlabel='Year', ylabel='Binary Indepndence')\n",
    "\n",
    "    fig.text(.5, 0.04, \"Visualization of {0}'s Economic Metrics\".format(country), ha='center', va='center', fontsize='xx-large')\n",
    "\n",
    "metrics('Algeria') #example"
   ]
  },
  {
   "cell_type": "markdown",
   "metadata": {},
   "source": [
    "From the visualizations, we know that banking and systemic crises seem to result from similar factors (or one another), and that currency and banking crises result from similar factors as well. "
   ]
  },
  {
   "cell_type": "markdown",
   "metadata": {},
   "source": [
    "### Machine Learning "
   ]
  },
  {
   "cell_type": "markdown",
   "metadata": {},
   "source": [
    "Our first goal is to group the data so that it can be meaningfully used by removing cretain data features. After this, multiple model and parameter testing will be undertaken in order to figure out the most optimized way of predicting crises. \n",
    "\n",
    "We will be using a classifier model since our question is black and white, \"Will there be a crisis?\". "
   ]
  },
  {
   "cell_type": "code",
   "execution_count": 21,
   "metadata": {},
   "outputs": [
    {
     "data": {
      "text/plain": [
       "Index(['case', 'cc3', 'country', 'year', 'systemic_crisis', 'exch_usd',\n",
       "       'domestic_debt_in_default', 'sovereign_external_debt_default',\n",
       "       'gdp_weighted_default', 'inflation_annual_cpi', 'independence',\n",
       "       'currency_crises', 'inflation_crises', 'banking_crisis'],\n",
       "      dtype='object')"
      ]
     },
     "execution_count": 21,
     "metadata": {},
     "output_type": "execute_result"
    }
   ],
   "source": [
    "db.columns"
   ]
  },
  {
   "cell_type": "code",
   "execution_count": 22,
   "metadata": {},
   "outputs": [],
   "source": [
    "features=list(db.columns.drop(['case', 'cc3', 'country', 'year', 'systemic_crisis', 'currency_crises', 'inflation_crises', 'banking_crisis']))"
   ]
  },
  {
   "cell_type": "code",
   "execution_count": 43,
   "metadata": {},
   "outputs": [],
   "source": [
    "from sklearn.preprocessing import normalize\n",
    "from sklearn.feature_selection import RFECV\n",
    "from sklearn.ensemble import RandomForestClassifier\n",
    "from sklearn.model_selection import RandomizedSearchCV\n",
    "from sklearn.neighbors import KNeighborsClassifier\n",
    "from sklearn.linear_model import LogisticRegression\n",
    "from sklearn.neural_network import MLPClassifier\n",
    "from sklearn.model_selection import GridSearchCV"
   ]
  },
  {
   "cell_type": "code",
   "execution_count": 33,
   "metadata": {},
   "outputs": [],
   "source": [
    "train=normalize(db[features])\n",
    "train=pd.DataFrame(train)\n",
    "train.columns=features\n",
    "\n",
    "systemic=db['systemic_crisis']\n",
    "currency=db['currency_crises']\n",
    "inflation=db['inflation_crises']\n",
    "banking=db['banking_crisis']"
   ]
  },
  {
   "cell_type": "code",
   "execution_count": 34,
   "metadata": {},
   "outputs": [],
   "source": [
    "def select_features(target):\n",
    "    RF=RandomForestRegressor(random_state=1, n_estimators=10)\n",
    "    \n",
    "    RFE=RFECV(RF, cv=10)\n",
    "    RFE.fit(train, target)\n",
    "    \n",
    "    best_columns=train.columns[RFE.support_]\n",
    "   \n",
    "    return best_columns\n"
   ]
  },
  {
   "cell_type": "code",
   "execution_count": 35,
   "metadata": {},
   "outputs": [],
   "source": [
    "targets=[systemic, currency, inflation, banking]\n",
    "empty=[]\n",
    "\n",
    "for kind in targets:\n",
    "    new=select_features(kind)\n",
    "    empty.append(new)"
   ]
  },
  {
   "cell_type": "code",
   "execution_count": 36,
   "metadata": {},
   "outputs": [],
   "source": [
    "train_systemic=train[empty[0]]\n",
    "train_currency=train[empty[1]]\n",
    "train_inflation=train[empty[2]]\n",
    "train_banking=train[empty[3]]\n"
   ]
  },
  {
   "cell_type": "markdown",
   "metadata": {},
   "source": [
    "Now that we have normalized and selected the features for each type of crisis, we can move onto testing various model types. We will use a random search cross validation sincere there are 4 target data sets meaning every model must be trained four times. This would require a large amount of computer power, so we will aim to minimize that. "
   ]
  },
  {
   "cell_type": "code",
   "execution_count": 44,
   "metadata": {},
   "outputs": [],
   "source": [
    "def select_classifier(train_set, target_set):\n",
    "    \n",
    "    big_dict=[{\"name\":\"KNeighborsClassifier\", \n",
    "             \"estimator\":KNeighborsClassifier(),\n",
    "             \"hyperparameters\": {\"n_neighbors\": range(1,20, 2), \n",
    "                               \"weights\": ['uniform', 'distance'],\n",
    "                               \"algorithm\": ['ball_tree', 'kd_tree', 'brute'],\n",
    "                               \"p\":[1,2]}},\n",
    "              \n",
    "              {\"name\":\"LogisticRegression\",\n",
    "              \"estimator\":LogisticRegression(),\n",
    "              \"hyperparameters\": {'solver':[\"newton-cg\", \"lbfgs\", \"liblinear\"]}},\n",
    "              \n",
    "              {\"name\": \"RandomForestClassifier\",\n",
    "              \"estimator\":RandomForestClassifier(random_state=1),\n",
    "              \"hyperparameters\": {'n_estimators': [4,6,9],\n",
    "                                 'max_depth': [2,5,10],\n",
    "                                 'max_features': ['log2', 'sqrt'],\n",
    "                                 'min_samples_leaf' : [1,5,8],\n",
    "                                 'min_samples_split': [2,3,5]}},\n",
    "               \n",
    "             {\"name\":\"MLPClassifier\",\n",
    "             \"estimator\" : MLPClassifier(),\n",
    "             \"hyperparameters\": {\"hidden_layer_sizes\":[(100,), (1000,), (100, 100), (100, 100, 100), (100,100,100,100)],\n",
    "                                \"solver\" : [\"lbfgs\", \"sgd\", \"adam\"],\n",
    "                                \"learning_rate\": [\"constant\", \"invscaling\", \"adaptive\"],\n",
    "                                \"max_iter\":[1000]}}]\n",
    "    list_of_dicts=[]\n",
    "    \n",
    "    for entry in big_dict:\n",
    "        random=RandomizedSearchCV(entry['estimator'], entry['hyperparameters'], cv=10)\n",
    "        random.fit(train_set, target_set)\n",
    "        best_estimator=random.best_estimator_\n",
    "        best_score=random.best_score_\n",
    "        best_params=random.best_params_\n",
    "        small_dict={'Model': entry['name'],\n",
    "                    'best estimator': best_estimator,\n",
    "                    'best score': best_score,\n",
    "                    'best parameters': best_params\n",
    "                   }\n",
    "        list_of_dicts.append(small_dict)\n",
    "        \n",
    "    return list_of_dicts\n"
   ]
  },
  {
   "cell_type": "code",
   "execution_count": 38,
   "metadata": {},
   "outputs": [
    {
     "name": "stderr",
     "output_type": "stream",
     "text": [
      "C:\\Users\\Stephen\\Anaconda3\\lib\\site-packages\\sklearn\\model_selection\\_search.py:841: DeprecationWarning: The default of the `iid` parameter will change from True to False in version 0.22 and will be removed in 0.24. This will change numeric results when test-set sizes are unequal.\n",
      "  DeprecationWarning)\n"
     ]
    },
    {
     "data": {
      "text/plain": [
       "[{'Model': 'KNeighborsClassifier',\n",
       "  'best estimator': KNeighborsClassifier(algorithm='ball_tree', leaf_size=30, metric='minkowski',\n",
       "             metric_params=None, n_jobs=None, n_neighbors=13, p=1,\n",
       "             weights='distance'),\n",
       "  'best score': 0.9131255901794145,\n",
       "  'best parameters': {'algorithm': 'ball_tree',\n",
       "   'n_neighbors': 13,\n",
       "   'p': 1,\n",
       "   'weights': 'distance'}},\n",
       " {'Model': 'LogisticRegression',\n",
       "  'best estimator': LogisticRegression(C=1.0, class_weight=None, dual=False, fit_intercept=True,\n",
       "            intercept_scaling=1, max_iter=100, multi_class='warn',\n",
       "            n_jobs=None, penalty='l2', random_state=None, solver='newton-cg',\n",
       "            tol=0.0001, verbose=0, warm_start=False),\n",
       "  'best score': 0.9112370160528801,\n",
       "  'best parameters': {'solver': 'newton-cg'}},\n",
       " {'Model': 'RandomForestClassifier',\n",
       "  'best estimator': RandomForestClassifier(bootstrap=True, class_weight=None, criterion='gini',\n",
       "              max_depth=5, max_features='log2', max_leaf_nodes=None,\n",
       "              min_impurity_decrease=0.0, min_impurity_split=None,\n",
       "              min_samples_leaf=8, min_samples_split=2,\n",
       "              min_weight_fraction_leaf=0.0, n_estimators=9, n_jobs=None,\n",
       "              oob_score=False, random_state=1, verbose=0, warm_start=False),\n",
       "  'best score': 0.9169027384324835,\n",
       "  'best parameters': {'max_depth': 5,\n",
       "   'max_features': 'log2',\n",
       "   'min_samples_leaf': 8,\n",
       "   'min_samples_split': 2,\n",
       "   'n_estimators': 9}},\n",
       " {'Model': 'MLPClassifier',\n",
       "  'best estimator': MLPClassifier(activation='relu', alpha=0.0001, batch_size='auto', beta_1=0.9,\n",
       "         beta_2=0.999, early_stopping=False, epsilon=1e-08,\n",
       "         hidden_layer_sizes=(100,), learning_rate='constant',\n",
       "         learning_rate_init=0.001, max_iter=1000, momentum=0.9,\n",
       "         n_iter_no_change=10, nesterovs_momentum=True, power_t=0.5,\n",
       "         random_state=None, shuffle=True, solver='sgd', tol=0.0001,\n",
       "         validation_fraction=0.1, verbose=False, warm_start=False),\n",
       "  'best score': 0.9112370160528801,\n",
       "  'best parameters': {'hidden_layer_sizes': (100,),\n",
       "   'learning_rate': 'constant',\n",
       "   'max_iter': 1000,\n",
       "   'solver': 'sgd'}}]"
      ]
     },
     "execution_count": 38,
     "metadata": {},
     "output_type": "execute_result"
    }
   ],
   "source": [
    "select_classifier(train_banking, banking)"
   ]
  },
  {
   "cell_type": "code",
   "execution_count": 45,
   "metadata": {},
   "outputs": [
    {
     "name": "stderr",
     "output_type": "stream",
     "text": [
      "C:\\Users\\Stephen\\Anaconda3\\lib\\site-packages\\sklearn\\model_selection\\_search.py:271: UserWarning: The total space of parameters 3 is smaller than n_iter=10. Running 3 iterations. For exhaustive searches, use GridSearchCV.\n",
      "  % (grid_size, self.n_iter, grid_size), UserWarning)\n"
     ]
    },
    {
     "data": {
      "text/plain": [
       "[{'Model': 'KNeighborsClassifier',\n",
       "  'best estimator': KNeighborsClassifier(algorithm='brute', leaf_size=30, metric='minkowski',\n",
       "             metric_params=None, n_jobs=None, n_neighbors=11, p=1,\n",
       "             weights='uniform'),\n",
       "  'best score': 0.9187913125590179,\n",
       "  'best parameters': {'weights': 'uniform',\n",
       "   'p': 1,\n",
       "   'n_neighbors': 11,\n",
       "   'algorithm': 'brute'}},\n",
       " {'Model': 'LogisticRegression',\n",
       "  'best estimator': LogisticRegression(C=1.0, class_weight=None, dual=False, fit_intercept=True,\n",
       "            intercept_scaling=1, max_iter=100, multi_class='warn',\n",
       "            n_jobs=None, penalty='l2', random_state=None, solver='newton-cg',\n",
       "            tol=0.0001, verbose=0, warm_start=False),\n",
       "  'best score': 0.9225684608120869,\n",
       "  'best parameters': {'solver': 'newton-cg'}},\n",
       " {'Model': 'RandomForestClassifier',\n",
       "  'best estimator': RandomForestClassifier(bootstrap=True, class_weight=None, criterion='gini',\n",
       "              max_depth=2, max_features='sqrt', max_leaf_nodes=None,\n",
       "              min_impurity_decrease=0.0, min_impurity_split=None,\n",
       "              min_samples_leaf=5, min_samples_split=5,\n",
       "              min_weight_fraction_leaf=0.0, n_estimators=9, n_jobs=None,\n",
       "              oob_score=False, random_state=1, verbose=0, warm_start=False),\n",
       "  'best score': 0.9235127478753541,\n",
       "  'best parameters': {'n_estimators': 9,\n",
       "   'min_samples_split': 5,\n",
       "   'min_samples_leaf': 5,\n",
       "   'max_features': 'sqrt',\n",
       "   'max_depth': 2}},\n",
       " {'Model': 'MLPClassifier',\n",
       "  'best estimator': MLPClassifier(activation='relu', alpha=0.0001, batch_size='auto', beta_1=0.9,\n",
       "         beta_2=0.999, early_stopping=False, epsilon=1e-08,\n",
       "         hidden_layer_sizes=(100, 100, 100, 100), learning_rate='invscaling',\n",
       "         learning_rate_init=0.001, max_iter=1000, momentum=0.9,\n",
       "         n_iter_no_change=10, nesterovs_momentum=True, power_t=0.5,\n",
       "         random_state=None, shuffle=True, solver='adam', tol=0.0001,\n",
       "         validation_fraction=0.1, verbose=False, warm_start=False),\n",
       "  'best score': 0.9235127478753541,\n",
       "  'best parameters': {'solver': 'adam',\n",
       "   'max_iter': 1000,\n",
       "   'learning_rate': 'invscaling',\n",
       "   'hidden_layer_sizes': (100, 100, 100, 100)}}]"
      ]
     },
     "execution_count": 45,
     "metadata": {},
     "output_type": "execute_result"
    }
   ],
   "source": [
    "select_classifier(train_systemic, systemic)"
   ]
  },
  {
   "cell_type": "code",
   "execution_count": 46,
   "metadata": {},
   "outputs": [
    {
     "name": "stderr",
     "output_type": "stream",
     "text": [
      "C:\\Users\\Stephen\\Anaconda3\\lib\\site-packages\\sklearn\\model_selection\\_search.py:841: DeprecationWarning: The default of the `iid` parameter will change from True to False in version 0.22 and will be removed in 0.24. This will change numeric results when test-set sizes are unequal.\n",
      "  DeprecationWarning)\n",
      "C:\\Users\\Stephen\\Anaconda3\\lib\\site-packages\\sklearn\\model_selection\\_search.py:271: UserWarning: The total space of parameters 3 is smaller than n_iter=10. Running 3 iterations. For exhaustive searches, use GridSearchCV.\n",
      "  % (grid_size, self.n_iter, grid_size), UserWarning)\n",
      "C:\\Users\\Stephen\\Anaconda3\\lib\\site-packages\\sklearn\\model_selection\\_search.py:841: DeprecationWarning: The default of the `iid` parameter will change from True to False in version 0.22 and will be removed in 0.24. This will change numeric results when test-set sizes are unequal.\n",
      "  DeprecationWarning)\n"
     ]
    },
    {
     "data": {
      "text/plain": [
       "[{'Model': 'KNeighborsClassifier',\n",
       "  'best estimator': KNeighborsClassifier(algorithm='ball_tree', leaf_size=30, metric='minkowski',\n",
       "             metric_params=None, n_jobs=None, n_neighbors=15, p=1,\n",
       "             weights='uniform'),\n",
       "  'best score': 0.8668555240793201,\n",
       "  'best parameters': {'weights': 'uniform',\n",
       "   'p': 1,\n",
       "   'n_neighbors': 15,\n",
       "   'algorithm': 'ball_tree'}},\n",
       " {'Model': 'LogisticRegression',\n",
       "  'best estimator': LogisticRegression(C=1.0, class_weight=None, dual=False, fit_intercept=True,\n",
       "            intercept_scaling=1, max_iter=100, multi_class='warn',\n",
       "            n_jobs=None, penalty='l2', random_state=None, solver='newton-cg',\n",
       "            tol=0.0001, verbose=0, warm_start=False),\n",
       "  'best score': 0.8725212464589235,\n",
       "  'best parameters': {'solver': 'newton-cg'}},\n",
       " {'Model': 'RandomForestClassifier',\n",
       "  'best estimator': RandomForestClassifier(bootstrap=True, class_weight=None, criterion='gini',\n",
       "              max_depth=2, max_features='log2', max_leaf_nodes=None,\n",
       "              min_impurity_decrease=0.0, min_impurity_split=None,\n",
       "              min_samples_leaf=8, min_samples_split=2,\n",
       "              min_weight_fraction_leaf=0.0, n_estimators=4, n_jobs=None,\n",
       "              oob_score=False, random_state=1, verbose=0, warm_start=False),\n",
       "  'best score': 0.8725212464589235,\n",
       "  'best parameters': {'n_estimators': 4,\n",
       "   'min_samples_split': 2,\n",
       "   'min_samples_leaf': 8,\n",
       "   'max_features': 'log2',\n",
       "   'max_depth': 2}},\n",
       " {'Model': 'MLPClassifier',\n",
       "  'best estimator': MLPClassifier(activation='relu', alpha=0.0001, batch_size='auto', beta_1=0.9,\n",
       "         beta_2=0.999, early_stopping=False, epsilon=1e-08,\n",
       "         hidden_layer_sizes=(100, 100), learning_rate='adaptive',\n",
       "         learning_rate_init=0.001, max_iter=1000, momentum=0.9,\n",
       "         n_iter_no_change=10, nesterovs_momentum=True, power_t=0.5,\n",
       "         random_state=None, shuffle=True, solver='sgd', tol=0.0001,\n",
       "         validation_fraction=0.1, verbose=False, warm_start=False),\n",
       "  'best score': 0.8725212464589235,\n",
       "  'best parameters': {'solver': 'sgd',\n",
       "   'max_iter': 1000,\n",
       "   'learning_rate': 'adaptive',\n",
       "   'hidden_layer_sizes': (100, 100)}}]"
      ]
     },
     "execution_count": 46,
     "metadata": {},
     "output_type": "execute_result"
    }
   ],
   "source": [
    "select_classifier(train_currency, currency)"
   ]
  },
  {
   "cell_type": "code",
   "execution_count": 47,
   "metadata": {},
   "outputs": [
    {
     "name": "stderr",
     "output_type": "stream",
     "text": [
      "C:\\Users\\Stephen\\Anaconda3\\lib\\site-packages\\sklearn\\model_selection\\_search.py:271: UserWarning: The total space of parameters 3 is smaller than n_iter=10. Running 3 iterations. For exhaustive searches, use GridSearchCV.\n",
      "  % (grid_size, self.n_iter, grid_size), UserWarning)\n"
     ]
    },
    {
     "data": {
      "text/plain": [
       "[{'Model': 'KNeighborsClassifier',\n",
       "  'best estimator': KNeighborsClassifier(algorithm='brute', leaf_size=30, metric='minkowski',\n",
       "             metric_params=None, n_jobs=None, n_neighbors=11, p=1,\n",
       "             weights='distance'),\n",
       "  'best score': 0.9150141643059491,\n",
       "  'best parameters': {'weights': 'distance',\n",
       "   'p': 1,\n",
       "   'n_neighbors': 11,\n",
       "   'algorithm': 'brute'}},\n",
       " {'Model': 'LogisticRegression',\n",
       "  'best estimator': LogisticRegression(C=1.0, class_weight=None, dual=False, fit_intercept=True,\n",
       "            intercept_scaling=1, max_iter=100, multi_class='warn',\n",
       "            n_jobs=None, penalty='l2', random_state=None, solver='newton-cg',\n",
       "            tol=0.0001, verbose=0, warm_start=False),\n",
       "  'best score': 0.8706326723323891,\n",
       "  'best parameters': {'solver': 'newton-cg'}},\n",
       " {'Model': 'RandomForestClassifier',\n",
       "  'best estimator': RandomForestClassifier(bootstrap=True, class_weight=None, criterion='gini',\n",
       "              max_depth=10, max_features='log2', max_leaf_nodes=None,\n",
       "              min_impurity_decrease=0.0, min_impurity_split=None,\n",
       "              min_samples_leaf=1, min_samples_split=2,\n",
       "              min_weight_fraction_leaf=0.0, n_estimators=6, n_jobs=None,\n",
       "              oob_score=False, random_state=1, verbose=0, warm_start=False),\n",
       "  'best score': 0.9338999055712937,\n",
       "  'best parameters': {'n_estimators': 6,\n",
       "   'min_samples_split': 2,\n",
       "   'min_samples_leaf': 1,\n",
       "   'max_features': 'log2',\n",
       "   'max_depth': 10}},\n",
       " {'Model': 'MLPClassifier',\n",
       "  'best estimator': MLPClassifier(activation='relu', alpha=0.0001, batch_size='auto', beta_1=0.9,\n",
       "         beta_2=0.999, early_stopping=False, epsilon=1e-08,\n",
       "         hidden_layer_sizes=(100, 100, 100, 100), learning_rate='invscaling',\n",
       "         learning_rate_init=0.001, max_iter=1000, momentum=0.9,\n",
       "         n_iter_no_change=10, nesterovs_momentum=True, power_t=0.5,\n",
       "         random_state=None, shuffle=True, solver='lbfgs', tol=0.0001,\n",
       "         validation_fraction=0.1, verbose=False, warm_start=False),\n",
       "  'best score': 0.9178470254957507,\n",
       "  'best parameters': {'solver': 'lbfgs',\n",
       "   'max_iter': 1000,\n",
       "   'learning_rate': 'invscaling',\n",
       "   'hidden_layer_sizes': (100, 100, 100, 100)}}]"
      ]
     },
     "execution_count": 47,
     "metadata": {},
     "output_type": "execute_result"
    }
   ],
   "source": [
    "select_classifier(train_inflation, inflation)"
   ]
  },
  {
   "cell_type": "markdown",
   "metadata": {},
   "source": [
    "From this search, we see that the highest performing model for each type of crisis is the Random Forest Classifier. We will now fine tune the model in order to eek out the highest degree of performance possible.This will involve a RandomizedSearchCV built into a function which will test a variety of configurations that are close to the initial configuration found in the prior randomized search. "
   ]
  },
  {
   "cell_type": "code",
   "execution_count": 62,
   "metadata": {},
   "outputs": [],
   "source": [
    "def forest_finder(train_set, target_set):\n",
    "    \n",
    "    \"\"\"\n",
    "    This function will take in a training set in two forms in order to find the highest performing Random Forest. \n",
    "    \"\"\"\n",
    "    \n",
    "    entry={\"name\": \"RandomForestClassifier\",\n",
    "              \"estimator\":RandomForestClassifier(random_state=1),\n",
    "              \"hyperparameters\": {'n_estimators': [5,6,7, 8],\n",
    "                                 'max_depth': range(2, 14),\n",
    "                                 'max_features': ['log2', 'sqrt'],\n",
    "                                 'min_samples_leaf' : range(2, 10),\n",
    "                                 'min_samples_split': range(2, 10)}}\n",
    "    \n",
    "   \n",
    "    random=RandomizedSearchCV(entry['estimator'], entry['hyperparameters'], cv=10)\n",
    "    random.fit(train_set, target_set)\n",
    "    best_estimator=random.best_estimator_\n",
    "    best_score=random.best_score_\n",
    "    best_params=random.best_params_\n",
    "    small_dict={'Model': 'RandomForestClassifier',\n",
    "                'best estimator': best_estimator,\n",
    "                'best score': best_score,\n",
    "                'best parameters': best_params\n",
    "                   }\n",
    "    return small_dict    "
   ]
  },
  {
   "cell_type": "code",
   "execution_count": 63,
   "metadata": {},
   "outputs": [
    {
     "name": "stderr",
     "output_type": "stream",
     "text": [
      "C:\\Users\\Stephen\\Anaconda3\\lib\\site-packages\\sklearn\\model_selection\\_search.py:841: DeprecationWarning: The default of the `iid` parameter will change from True to False in version 0.22 and will be removed in 0.24. This will change numeric results when test-set sizes are unequal.\n",
      "  DeprecationWarning)\n"
     ]
    },
    {
     "data": {
      "text/plain": [
       "[{'Model': 'RandomForestClassifier',\n",
       "  'best estimator': RandomForestClassifier(bootstrap=True, class_weight=None, criterion='gini',\n",
       "              max_depth=4, max_features='sqrt', max_leaf_nodes=None,\n",
       "              min_impurity_decrease=0.0, min_impurity_split=None,\n",
       "              min_samples_leaf=8, min_samples_split=8,\n",
       "              min_weight_fraction_leaf=0.0, n_estimators=6, n_jobs=None,\n",
       "              oob_score=False, random_state=1, verbose=0, warm_start=False),\n",
       "  'best score': 0.9235127478753541,\n",
       "  'best parameters': {'n_estimators': 6,\n",
       "   'min_samples_split': 8,\n",
       "   'min_samples_leaf': 8,\n",
       "   'max_features': 'sqrt',\n",
       "   'max_depth': 4}},\n",
       " {'Model': 'RandomForestClassifier',\n",
       "  'best estimator': RandomForestClassifier(bootstrap=True, class_weight=None, criterion='gini',\n",
       "              max_depth=6, max_features='sqrt', max_leaf_nodes=None,\n",
       "              min_impurity_decrease=0.0, min_impurity_split=None,\n",
       "              min_samples_leaf=5, min_samples_split=9,\n",
       "              min_weight_fraction_leaf=0.0, n_estimators=6, n_jobs=None,\n",
       "              oob_score=False, random_state=1, verbose=0, warm_start=False),\n",
       "  'best score': 0.8753541076487252,\n",
       "  'best parameters': {'n_estimators': 6,\n",
       "   'min_samples_split': 9,\n",
       "   'min_samples_leaf': 5,\n",
       "   'max_features': 'sqrt',\n",
       "   'max_depth': 6}},\n",
       " {'Model': 'RandomForestClassifier',\n",
       "  'best estimator': RandomForestClassifier(bootstrap=True, class_weight=None, criterion='gini',\n",
       "              max_depth=9, max_features='log2', max_leaf_nodes=None,\n",
       "              min_impurity_decrease=0.0, min_impurity_split=None,\n",
       "              min_samples_leaf=8, min_samples_split=7,\n",
       "              min_weight_fraction_leaf=0.0, n_estimators=8, n_jobs=None,\n",
       "              oob_score=False, random_state=1, verbose=0, warm_start=False),\n",
       "  'best score': 0.9329556185080264,\n",
       "  'best parameters': {'n_estimators': 8,\n",
       "   'min_samples_split': 7,\n",
       "   'min_samples_leaf': 8,\n",
       "   'max_features': 'log2',\n",
       "   'max_depth': 9}},\n",
       " {'Model': 'RandomForestClassifier',\n",
       "  'best estimator': RandomForestClassifier(bootstrap=True, class_weight=None, criterion='gini',\n",
       "              max_depth=5, max_features='sqrt', max_leaf_nodes=None,\n",
       "              min_impurity_decrease=0.0, min_impurity_split=None,\n",
       "              min_samples_leaf=8, min_samples_split=8,\n",
       "              min_weight_fraction_leaf=0.0, n_estimators=7, n_jobs=None,\n",
       "              oob_score=False, random_state=1, verbose=0, warm_start=False),\n",
       "  'best score': 0.9121813031161473,\n",
       "  'best parameters': {'n_estimators': 7,\n",
       "   'min_samples_split': 8,\n",
       "   'min_samples_leaf': 8,\n",
       "   'max_features': 'sqrt',\n",
       "   'max_depth': 5}}]"
      ]
     },
     "execution_count": 63,
     "metadata": {},
     "output_type": "execute_result"
    }
   ],
   "source": [
    "targets=[systemic, currency, inflation, banking]\n",
    "trains=[train_systemic, train_currency, train_inflation, train_banking]\n",
    "\n",
    "new=[]\n",
    "counter=0\n",
    "for target in targets:\n",
    "    added=forest_finder(trains[counter], target)\n",
    "    new.append(added)\n",
    "    counter+=1\n",
    "new"
   ]
  },
  {
   "cell_type": "markdown",
   "metadata": {},
   "source": [
    "Now that we have honed in the highest accuracy models for each crisis type. It is time to generate usable models for each type."
   ]
  },
  {
   "cell_type": "code",
   "execution_count": 105,
   "metadata": {},
   "outputs": [],
   "source": [
    "train_systemic=train[empty[0]]\n",
    "train_currency=train[empty[1]]\n",
    "train_inflation=train[empty[2]]\n",
    "train_banking=train[empty[3]]\n",
    "\n",
    "systemic=db['systemic_crisis']\n",
    "currency=db['currency_crises']\n",
    "inflation=db['inflation_crises']\n",
    "banking=db['banking_crisis']\n"
   ]
  },
  {
   "cell_type": "code",
   "execution_count": 114,
   "metadata": {},
   "outputs": [],
   "source": [
    "def find_systemic(country, exch_usd, sovereign_external_debt_default, inflation_annual_cpi, independence):\n",
    "    \"\"\"\n",
    "    This function will take in the attributes used by the predictor function, train a model based off of the parameters found\n",
    "    as well as give a prediction for the given country with the stats provided. In this process it will normalize each input \n",
    "    value as needed.\n",
    "    __________________________________________________________________________________________________________________________\n",
    "    \n",
    "    country: Name of the country being studied\n",
    "    exch_usd: The rate of US Dollars to the local currency \n",
    "    sovereign_external_debt_default: Did the country default on its external debt? Yes=1, No=0\n",
    "    inflaction_annual_cpi: What is the current rate of inflation? Normalized within the table.\n",
    "    independence: Is the country independent? Yes=1, No=0\n",
    "    \n",
    "    \"\"\"\n",
    "    \n",
    "    \n",
    "    normal_exch_usd = (exch_usd-db['exch_usd'].min())/(db['exch_usd'].max()-db['exch_usd'].min())\n",
    "    normal_inflation_annual_cpi = (inflation_annual_cpi-db['inflation_annual_cpi'].min())/(db['inflation_annual_cpi'].max()-db['inflation_annual_cpi'].min())\n",
    "    \n",
    "    RFC=RandomForestClassifier(bootstrap=True, class_weight=None, criterion='gini',\n",
    "              max_depth=4, max_features='sqrt', max_leaf_nodes=None,\n",
    "              min_impurity_decrease=0.0, min_impurity_split=None,\n",
    "              min_samples_leaf=8, min_samples_split=8,\n",
    "              min_weight_fraction_leaf=0.0, n_estimators=6, n_jobs=None,\n",
    "              oob_score=False, random_state=1, verbose=0, warm_start=False)\n",
    "    \n",
    "    RFC.fit(train_systemic, systemic)\n",
    "    prediction=RFC.predict([[normal_exch_usd, sovereign_external_debt_default, normal_inflation_annual_cpi, independence]])\n",
    "    \n",
    "    if prediction==1:\n",
    "        answer='Yes'\n",
    "    if prediction==0:\n",
    "        answer='No'\n",
    "        \n",
    "    statement= \"According to our model, {0}, {1} will have a systemic crisis. This model has performed with 92% accuracy in other cases.\".format(answer, country)\n",
    "    \n",
    "    return statement\n",
    "\n"
   ]
  },
  {
   "cell_type": "code",
   "execution_count": 115,
   "metadata": {},
   "outputs": [
    {
     "data": {
      "text/plain": [
       "case                                         56\n",
       "cc3                                         ZAF\n",
       "country                            South Africa\n",
       "year                                       1992\n",
       "systemic_crisis                               0\n",
       "exch_usd                                  3.053\n",
       "domestic_debt_in_default                      0\n",
       "sovereign_external_debt_default               0\n",
       "gdp_weighted_default                          0\n",
       "inflation_annual_cpi                     13.673\n",
       "independence                                  1\n",
       "currency_crises                               0\n",
       "inflation_crises                              0\n",
       "banking_crisis                                0\n",
       "Name: 800, dtype: object"
      ]
     },
     "execution_count": 115,
     "metadata": {},
     "output_type": "execute_result"
    }
   ],
   "source": []
  },
  {
   "cell_type": "code",
   "execution_count": 116,
   "metadata": {},
   "outputs": [
    {
     "data": {
      "text/plain": [
       "'According to our model, No, South Africa will have a systemic crisis. This model has performed with 92% accuracy in other cases.'"
      ]
     },
     "execution_count": 116,
     "metadata": {},
     "output_type": "execute_result"
    }
   ],
   "source": [
    "find_systemic('South Africa', 3.053, 0, 13.673, 1)"
   ]
  },
  {
   "cell_type": "code",
   "execution_count": 110,
   "metadata": {},
   "outputs": [
    {
     "data": {
      "text/plain": [
       "Index(['exch_usd', 'inflation_annual_cpi', 'independence'], dtype='object')"
      ]
     },
     "execution_count": 110,
     "metadata": {},
     "output_type": "execute_result"
    }
   ],
   "source": [
    "empty[1]"
   ]
  },
  {
   "cell_type": "code",
   "execution_count": 121,
   "metadata": {},
   "outputs": [],
   "source": [
    "def find_currency(country, exch_usd, inflation_annual_cpi, independence):\n",
    "    \"\"\"\n",
    "    This function will take in the attributes used by the predictor function, train a model based off of the parameters found\n",
    "    as well as give a prediction for the given country with the stats provided. In this process it will normalize each input \n",
    "    value as needed.\n",
    "    __________________________________________________________________________________________________________________________\n",
    "    \n",
    "    country: Name of the country being studied\n",
    "    exch_usd: The rate of US Dollars to the local currency \n",
    "    inflaction_annual_cpi: What is the current rate of inflation? Normalized within the table.\n",
    "    independence: Is the country independent? Yes=1, No=0\n",
    "    \n",
    "    \"\"\"\n",
    "    \n",
    "    \n",
    "    normal_exch_usd = (exch_usd-db['exch_usd'].min())/(db['exch_usd'].max()-db['exch_usd'].min())\n",
    "    normal_inflation_annual_cpi = (inflation_annual_cpi-db['inflation_annual_cpi'].min())/(db['inflation_annual_cpi'].max()-db['inflation_annual_cpi'].min())\n",
    "    \n",
    "    RFC=RandomForestClassifier(bootstrap=True, class_weight=None, criterion='gini',\n",
    "              max_depth=6, max_features='sqrt', max_leaf_nodes=None,\n",
    "              min_impurity_decrease=0.0, min_impurity_split=None,\n",
    "              min_samples_leaf=5, min_samples_split=9,\n",
    "              min_weight_fraction_leaf=0.0, n_estimators=6, n_jobs=None,\n",
    "              oob_score=False, random_state=1, verbose=0, warm_start=False)\n",
    "    \n",
    "    RFC.fit(train_currency, currency)\n",
    "    prediction=RFC.predict([[normal_exch_usd, normal_inflation_annual_cpi, independence]])\n",
    "    \n",
    "    if prediction==1:\n",
    "        answer='Yes'\n",
    "    if prediction==0:\n",
    "        answer='No'\n",
    "        \n",
    "    statement= \"According to our model, {0}, {1} will have a currency crisis. This model has performed with 88% accuracy in other cases.\".format(answer, country)\n",
    "    \n",
    "    return statement"
   ]
  },
  {
   "cell_type": "code",
   "execution_count": 122,
   "metadata": {},
   "outputs": [
    {
     "data": {
      "text/plain": [
       "case                                         56\n",
       "cc3                                         ZAF\n",
       "country                            South Africa\n",
       "year                                       1992\n",
       "systemic_crisis                               0\n",
       "exch_usd                                  3.053\n",
       "domestic_debt_in_default                      0\n",
       "sovereign_external_debt_default               0\n",
       "gdp_weighted_default                          0\n",
       "inflation_annual_cpi                     13.673\n",
       "independence                                  1\n",
       "currency_crises                               0\n",
       "inflation_crises                              0\n",
       "banking_crisis                                0\n",
       "Name: 800, dtype: object"
      ]
     },
     "execution_count": 122,
     "metadata": {},
     "output_type": "execute_result"
    }
   ],
   "source": [
    "db.loc[800, :]"
   ]
  },
  {
   "cell_type": "code",
   "execution_count": 124,
   "metadata": {},
   "outputs": [
    {
     "data": {
      "text/plain": [
       "Index(['exch_usd', 'domestic_debt_in_default',\n",
       "       'sovereign_external_debt_default', 'gdp_weighted_default',\n",
       "       'inflation_annual_cpi', 'independence'],\n",
       "      dtype='object')"
      ]
     },
     "execution_count": 124,
     "metadata": {},
     "output_type": "execute_result"
    }
   ],
   "source": [
    "empty[2]"
   ]
  },
  {
   "cell_type": "code",
   "execution_count": 127,
   "metadata": {},
   "outputs": [],
   "source": [
    "def find_inflation(country, exch_usd, domestic_debt_in_default, sovereign_external_debt_default, inflation_annual_cpi, independence):\n",
    "    \"\"\"\n",
    "    This function will take in the attributes used by the predictor function, train a model based off of the parameters found\n",
    "    as well as give a prediction for the given country with the stats provided. In this process it will normalize each input \n",
    "    value as needed.\n",
    "    __________________________________________________________________________________________________________________________\n",
    "    \n",
    "    country: Name of the country being studied\n",
    "    exch_usd: The rate of US Dollars to the local currency \n",
    "    domestic_debt_in_default: Did the country default on its domestic debt? Yes=1, No=0\n",
    "    sovereign_external_debt_default: Did the country default on its external debt? Yes=1, No=0\n",
    "    inflaction_annual_cpi: What is the current rate of inflation? Normalized within the table.\n",
    "    independence: Is the country independent? Yes=1, No=0\n",
    "    \n",
    "    \"\"\"\n",
    "    \n",
    "    \n",
    "    normal_exch_usd = (exch_usd-db['exch_usd'].min())/(db['exch_usd'].max()-db['exch_usd'].min())\n",
    "    normal_inflation_annual_cpi = (inflation_annual_cpi-db['inflation_annual_cpi'].min())/(db['inflation_annual_cpi'].max()-db['inflation_annual_cpi'].min())\n",
    "    \n",
    "    RFC=RandomForestClassifier(bootstrap=True, class_weight=None, criterion='gini',\n",
    "              max_depth=9, max_features='log2', max_leaf_nodes=None,\n",
    "              min_impurity_decrease=0.0, min_impurity_split=None,\n",
    "              min_samples_leaf=8, min_samples_split=7,\n",
    "              min_weight_fraction_leaf=0.0, n_estimators=8, n_jobs=None,\n",
    "              oob_score=False, random_state=1, verbose=0, warm_start=False)\n",
    "    \n",
    "    RFC.fit(train_systemic, systemic)\n",
    "    prediction=RFC.predict([[normal_exch_usd, sovereign_external_debt_default, normal_inflation_annual_cpi, independence]])\n",
    "    \n",
    "    if prediction==1:\n",
    "        answer='Yes'\n",
    "    if prediction==0:\n",
    "        answer='No'\n",
    "        \n",
    "    statement= \"According to our model, {0}, {1} will have a inflation crisis. This model has performed with 93% accuracy in other cases.\".format(answer, country)\n",
    "    \n",
    "    return statement"
   ]
  },
  {
   "cell_type": "code",
   "execution_count": 128,
   "metadata": {},
   "outputs": [
    {
     "data": {
      "text/plain": [
       "'According to our model, No, South Africa will have a inflation crisis. This model has performed with 93% accuracy in other cases.'"
      ]
     },
     "execution_count": 128,
     "metadata": {},
     "output_type": "execute_result"
    }
   ],
   "source": [
    "find_inflation('South Africa', 3.053, 0,0, 13.673, 1)"
   ]
  },
  {
   "cell_type": "code",
   "execution_count": 129,
   "metadata": {},
   "outputs": [
    {
     "data": {
      "text/plain": [
       "Index(['exch_usd', 'domestic_debt_in_default',\n",
       "       'sovereign_external_debt_default', 'inflation_annual_cpi',\n",
       "       'independence'],\n",
       "      dtype='object')"
      ]
     },
     "execution_count": 129,
     "metadata": {},
     "output_type": "execute_result"
    }
   ],
   "source": [
    "empty[3]"
   ]
  },
  {
   "cell_type": "code",
   "execution_count": 130,
   "metadata": {},
   "outputs": [],
   "source": [
    "def find_banking(country, exch_usd, domestic_debt_in_default, sovereign_external_debt_default, inflation_annual_cpi, independence):\n",
    "    \"\"\"\n",
    "    This function will take in the attributes used by the predictor function, train a model based off of the parameters found\n",
    "    as well as give a prediction for the given country with the stats provided. In this process it will normalize each input \n",
    "    value as needed.\n",
    "    __________________________________________________________________________________________________________________________\n",
    "    \n",
    "    country: Name of the country being studied\n",
    "    exch_usd: The rate of US Dollars to the local currency \n",
    "    domestic_debt_in_default: Did the country default on its domestic debt? Yes=1, No=0\n",
    "    sovereign_external_debt_default: Did the country default on its external debt? Yes=1, No=0\n",
    "    inflaction_annual_cpi: What is the current rate of inflation? Normalized within the table.\n",
    "    independence: Is the country independent? Yes=1, No=0\n",
    "    \n",
    "    \"\"\"\n",
    "    \n",
    "    \n",
    "    normal_exch_usd = (exch_usd-db['exch_usd'].min())/(db['exch_usd'].max()-db['exch_usd'].min())\n",
    "    normal_inflation_annual_cpi = (inflation_annual_cpi-db['inflation_annual_cpi'].min())/(db['inflation_annual_cpi'].max()-db['inflation_annual_cpi'].min())\n",
    "    \n",
    "    RFC=RandomForestClassifier(bootstrap=True, class_weight=None, criterion='gini',\n",
    "              max_depth=5, max_features='sqrt', max_leaf_nodes=None,\n",
    "              min_impurity_decrease=0.0, min_impurity_split=None,\n",
    "              min_samples_leaf=8, min_samples_split=8,\n",
    "              min_weight_fraction_leaf=0.0, n_estimators=7, n_jobs=None,\n",
    "              oob_score=False, random_state=1, verbose=0, warm_start=False)\n",
    "    \n",
    "    RFC.fit(train_systemic, systemic)\n",
    "    prediction=RFC.predict([[normal_exch_usd, sovereign_external_debt_default, normal_inflation_annual_cpi, independence]])\n",
    "    \n",
    "    if prediction==1:\n",
    "        answer='Yes'\n",
    "    if prediction==0:\n",
    "        answer='No'\n",
    "        \n",
    "    statement= \"According to our model, {0}, {1} will have a banking crisis. This model has performed with 91% accuracy in other cases.\".format(answer, country)\n",
    "    \n",
    "    return statement"
   ]
  },
  {
   "cell_type": "code",
   "execution_count": 131,
   "metadata": {},
   "outputs": [
    {
     "data": {
      "text/plain": [
       "'According to our model, No, South Africa will have a banking crisis. This model has performed with 91% accuracy in other cases.'"
      ]
     },
     "execution_count": 131,
     "metadata": {},
     "output_type": "execute_result"
    }
   ],
   "source": [
    "find_banking('South Africa', 3.053, 0,0, 13.673, 1)"
   ]
  },
  {
   "cell_type": "markdown",
   "metadata": {},
   "source": [
    "### Conclusion"
   ]
  },
  {
   "cell_type": "markdown",
   "metadata": {},
   "source": [
    "In this project we have looked to create models which predict whether or not a country in Africa with a given set of economic stats will have either a banking, systemic, inflation, or currency crises. To this end, we were able to generate models with anywhere between 88-93% accuracy. This is good, but there are other avenues with which to explore.\n",
    "\n",
    "The primary area for increased accuracy for this model would be to add other features. Possible features could include \"global economic recession\", \"war\", and \"neighbors in crisis\". For global economic recession, it would be a binary indicator of whether there was a general economic recession at the time; this would speak to the connectedness of the world economy and how it affects African countries. \"War\" would be a binary indicator; it would signify whether there was an ongoing war within the country and could speak to war's ability to destabalize economies. \"Neighbors in crisis\" would indicate the number of neighboring countries that were dealing with an economic crisis. This stat would be an indicator of the health of local trade. "
   ]
  },
  {
   "cell_type": "code",
   "execution_count": null,
   "metadata": {},
   "outputs": [],
   "source": []
  }
 ],
 "metadata": {
  "kernelspec": {
   "display_name": "Python 3",
   "language": "python",
   "name": "python3"
  },
  "language_info": {
   "codemirror_mode": {
    "name": "ipython",
    "version": 3
   },
   "file_extension": ".py",
   "mimetype": "text/x-python",
   "name": "python",
   "nbconvert_exporter": "python",
   "pygments_lexer": "ipython3",
   "version": "3.7.3"
  }
 },
 "nbformat": 4,
 "nbformat_minor": 2
}
